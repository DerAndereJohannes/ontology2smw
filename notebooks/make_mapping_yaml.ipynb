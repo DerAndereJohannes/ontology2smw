{
 "cells": [
  {
   "cell_type": "code",
   "execution_count": 486,
   "metadata": {},
   "outputs": [],
   "source": [
    "import yaml\n",
    "import sys\n",
    "from pathlib import Path\n",
    "from typing import Dict\n",
    "import rdflib\n"
   ]
  },
  {
   "cell_type": "code",
   "execution_count": 487,
   "metadata": {},
   "outputs": [],
   "source": [
    "def dict2yaml(path: str, data: Dict):\n",
    "    with open(path, 'w') as yaml_f:\n",
    "        yaml.safe_dump(data=data, stream=yaml_f)"
   ]
  },
  {
   "cell_type": "code",
   "execution_count": 488,
   "metadata": {},
   "outputs": [
    {
     "name": "stdout",
     "output_type": "stream",
     "text": [
      "the graph has 20 statements\n",
      "{'URI': 'https://www.wikidata.org/wiki/Property:P646', 'external_prop': 'Freebase_ID'}\n",
      "{'URI': 'https://www.wikidata.org/wiki/Property:P646', 'external_prop': 'Freebase_ID'}\n",
      "{'URI': 'https://www.wikidata.org/wiki/Property:P646', 'external_prop': 'Freebase_ID'}\n"
     ]
    }
   ],
   "source": [
    "# open a graph\n",
    "graph = rdflib.Graph()\n",
    "# load some data\n",
    "graph.parse('https://raw.githubusercontent.com/tibonto/aeon/confIDent/aeon.ttl', format=\"ttl\")  \n",
    "# do a query\n",
    "qres = graph.query(\n",
    "    \"\"\"\n",
    "    PREFIX aeon: <https://github.com/tibonto/aeon#>\n",
    "    PREFIX rdf: <http://www.w3.org/1999/02/22-rdf-syntax-ns#>\n",
    "    SELECT ?aeon_property ?WikidatURI ?WikidataLabel\n",
    "    WHERE {\n",
    "         ?aeon_property aeon:WikidataLabel ?WikidataLabel.\n",
    "         OPTIONAL {?aeon_property aeon:WikidataURI ?WikidatURI.}\n",
    "         \n",
    "    }\"\"\")\n",
    "     \n",
    "print(\"the graph has %s statements\" % len(qres))\n",
    "\n",
    "mapping_dict = {}\n",
    "for printout in qres:\n",
    "    printout_dict = printout.asdict()\n",
    "    #print (printout_dict)\n",
    "    \n",
    "    # make rdf literal to string and cut off base URI\n",
    "    aeon_property = str(printout_dict.get('aeon_property'))\n",
    "    aeon_property = aeon_property.replace(\"'\",\"\")\n",
    "    aeon_property = aeon_property.replace(\"https://github.com/tibonto/aeon#\",\"\")\n",
    "    \n",
    "    # make rdf literal to string\n",
    "    wikidatURI = str(printout_dict.get('WikidatURI'))\n",
    "    wikidatURI = wikidatURI.replace(\"'\",\"\")\n",
    "    \n",
    "    # account for the fact that for multiple URI/Label pairs of the same aeon_property the relation is lost \n",
    "    # due to using two seperate annotation properties --> we should switch to storing both in one as JSON\n",
    "    if wikidatURI == 'https://www.wikidata.org/wiki/Property:P5127':\n",
    "        wikidataLabel = 'WikiCFP_conference_series_ID'\n",
    "    elif wikidatURI == 'https://www.wikidata.org/wiki/Property:P646':\n",
    "        wikidataLabel = 'Freebase_ID'\n",
    "    else:\n",
    "        wikidataLabel = str(printout_dict.get('WikidataLabel'))\n",
    "        wikidataLabel = wikidataLabel.replace(\"'\",\"\")\n",
    "        \n",
    "    # account for the fact that multiple values for an aeon_property may exist\n",
    "    # these pairs will be incorrect, if not added as possible cases in the above if/elif/else clause\n",
    "    if aeon_property in mapping_dict.keys():\n",
    "        x = mapping_dict[aeon_property].get('external_props')[0]\n",
    "        print (x)\n",
    "        if x != {'URI':wikidatURI, 'external_prop':wikidataLabel}:\n",
    "            mapping_dict[aeon_property] = {'external_props':[x,\n",
    "                                                            {'URI':wikidatURI, 'external_prop':wikidataLabel}]}\n",
    "    else:\n",
    "        mapping_dict[aeon_property] = {'external_props': [{'URI':wikidatURI, 'external_prop':wikidataLabel}]}"
   ]
  },
  {
   "cell_type": "code",
   "execution_count": 489,
   "metadata": {},
   "outputs": [
    {
     "name": "stdout",
     "output_type": "stream",
     "text": [
      "17\n"
     ]
    },
    {
     "data": {
      "text/plain": [
       "{'external_props': [{'URI': 'https://www.wikidata.org/wiki/Property:P646',\n",
       "   'external_prop': 'Freebase_ID'},\n",
       "  {'URI': 'https://www.wikidata.org/wiki/Property:P5127',\n",
       "   'external_prop': 'WikiCFP_conference_series_ID'}]}"
      ]
     },
     "execution_count": 489,
     "metadata": {},
     "output_type": "execute_result"
    }
   ],
   "source": [
    "print(len(mapping_dict))\n",
    "mapping_dict.get('has_external_identifier')"
   ]
  },
  {
   "cell_type": "code",
   "execution_count": 490,
   "metadata": {},
   "outputs": [],
   "source": [
    "dict2yaml('confident_mapping.yml', mapping_dict)"
   ]
  },
  {
   "cell_type": "code",
   "execution_count": null,
   "metadata": {},
   "outputs": [],
   "source": []
  }
 ],
 "metadata": {
  "kernelspec": {
   "display_name": "Python 3",
   "language": "python",
   "name": "python3"
  },
  "language_info": {
   "codemirror_mode": {
    "name": "ipython",
    "version": 3
   },
   "file_extension": ".py",
   "mimetype": "text/x-python",
   "name": "python",
   "nbconvert_exporter": "python",
   "pygments_lexer": "ipython3",
   "version": "3.7.9"
  },
  "toc": {
   "base_numbering": 1,
   "nav_menu": {},
   "number_sections": true,
   "sideBar": true,
   "skip_h1_title": false,
   "title_cell": "Table of Contents",
   "title_sidebar": "Contents",
   "toc_cell": false,
   "toc_position": {},
   "toc_section_display": true,
   "toc_window_display": false
  }
 },
 "nbformat": 4,
 "nbformat_minor": 4
}
