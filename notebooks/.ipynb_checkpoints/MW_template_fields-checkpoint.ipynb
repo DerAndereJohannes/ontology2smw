{
 "cells": [
  {
   "cell_type": "code",
   "execution_count": 17,
   "metadata": {
    "scrolled": true
   },
   "outputs": [
    {
     "name": "stdout",
     "output_type": "stream",
     "text": [
      "{{#if: {{{Abstract deadline|}}}|! Abstract deadline:|}}\n",
      "| {{#arraymap:{{{Abstract deadline|}}}|@@|ZZZZ|[[Abstract deadline::ZZZZ]]|\\s}}\n",
      "|}\n",
      "{{#if: {{{Camera-ready deadline|}}}|! Camera-ready deadline:|}}\n",
      "| {{#arraymap:{{{Camera-ready deadline|}}}|@@|ZZZZ|[[Camera-ready deadline::ZZZZ]]|\\s}}\n",
      "|}\n",
      "{{#if: {{{Demo deadline|}}}|! Demo deadline:|}}\n",
      "| {{#arraymap:{{{Demo deadline|}}}|@@|ZZZZ|[[Demo deadline::ZZZZ]]|\\s}}\n",
      "|}\n",
      "{{#if: {{{Notification deadline|}}}|! Notification deadline:|}}\n",
      "| {{#arraymap:{{{Notification deadline|}}}|@@|ZZZZ|[[Notification deadline::ZZZZ]]|\\s}}\n",
      "|}\n",
      "{{#if: {{{Paper deadline|}}}|! Paper deadline:|}}\n",
      "| {{#arraymap:{{{Paper deadline|}}}|@@|ZZZZ|[[Paper deadline::ZZZZ]]|\\s}}\n",
      "|}\n",
      "{{#if: {{{Poster deadline|}}}|! Poster deadline:|}}\n",
      "| {{#arraymap:{{{Poster deadline|}}}|@@|ZZZZ|[[Poster deadline::ZZZZ]]|\\s}}\n",
      "|}\n",
      "{{#if: {{{Submission deadline|}}}|! Submission deadline:|}}\n",
      "| {{#arraymap:{{{Submission deadline|}}}|@@|ZZZZ|[[Submission deadline::ZZZZ]]|\\s}}\n",
      "|}\n",
      "{{#if: {{{Tutorial deadline|}}}|! Tutorial deadline:|}}\n",
      "| {{#arraymap:{{{Tutorial deadline|}}}|@@|ZZZZ|[[Tutorial deadline::ZZZZ]]|\\s}}\n",
      "|}\n",
      "{{#if: {{{Workshop deadline|}}}|! Workshop deadline:|}}\n",
      "| {{#arraymap:{{{Workshop deadline|}}}|@@|ZZZZ|[[Workshop deadline::ZZZZ]]|\\s}}\n",
      "|}\n"
     ]
    }
   ],
   "source": [
    "field_names = ['Abstract deadline', 'Camera-ready deadline', 'Demo deadline', 'Notification deadline', 'Paper deadline', 'Poster deadline', 'Submission deadline', 'Tutorial deadline', 'Workshop deadline']\n",
    "form_field_template = '|- \\n! %s:\\n| {{{field|%s|delimiter=@@|input type=tokens|size=15}}}'\n",
    "template_field_template = '{{#if: {{{%s|}}}|! %s:|}}\\n| {{#arraymap:{{{%s|}}}|@@|ZZZZ|[[%s::ZZZZ]]|\\s}}\\n|}'\n",
    "\n",
    "for field in field_names:\n",
    "#     print(form_field_template % (field, field))\n",
    "    print(template_field_template % (field, field, field, field))\n"
   ]
  },
  {
   "cell_type": "code",
   "execution_count": null,
   "metadata": {},
   "outputs": [],
   "source": []
  }
 ],
 "metadata": {
  "kernelspec": {
   "display_name": "Python 3",
   "language": "python",
   "name": "python3"
  },
  "language_info": {
   "codemirror_mode": {
    "name": "ipython",
    "version": 3
   },
   "file_extension": ".py",
   "mimetype": "text/x-python",
   "name": "python",
   "nbconvert_exporter": "python",
   "pygments_lexer": "ipython3",
   "version": "3.7.3"
  }
 },
 "nbformat": 4,
 "nbformat_minor": 4
}
