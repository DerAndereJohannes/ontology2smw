{
 "cells": [
  {
   "cell_type": "markdown",
   "metadata": {},
   "source": [
    "# How to extract Namespace Prefixes from a Graph with RDFlib?"
   ]
  },
  {
   "cell_type": "code",
   "execution_count": 1,
   "metadata": {},
   "outputs": [
    {
     "name": "stdout",
     "output_type": "stream",
     "text": [
      "{'graph': <Graph identifier=Nb463f47afe1a46d5a1887101296fed47 (<class 'rdflib.graph.Graph'>)>, '_NamespaceManager__cache': {}, '_NamespaceManager__cache_strict': {}, '_NamespaceManager__log': None, '_NamespaceManager__strie': {}, '_NamespaceManager__trie': {'http://www.w3.org/XML/1998/namespace': {}, 'http://www.w3.org/1999/02/22-rdf-syntax-ns#': {}, 'http://www.w3.org/2000/01/rdf-schema#': {}, 'http://www.w3.org/2001/XMLSchema#': {}, 'https://github.com/tibonto/aeon#': {}, 'http://dublincore.org/specifications/dublin-core/dcmi-terms/2012-06-14/': {}, 'http://www.w3.org/2003/06/sw-vocab-status/ns#': {}, 'http://purl.obolibrary.org/obo/': {'http://purl.obolibrary.org/obo/bfo/2020/bfo.owl#': {}, 'http://purl.obolibrary.org/obo/iao/2020-06-10/iao.owl#': {}}, 'http://www.w3.org/2002/07/owl#': {}, 'https://w3id.org/obda/vocabulary#': {}}}\n",
      "\n",
      "\n",
      "{'': rdflib.term.URIRef('https://github.com/tibonto/aeon#'),\n",
      " 'aeon': rdflib.term.URIRef('https://github.com/tibonto/aeon#'),\n",
      " 'bfo': rdflib.term.URIRef('http://purl.obolibrary.org/obo/bfo/2020/bfo.owl#'),\n",
      " 'dc': rdflib.term.URIRef('http://dublincore.org/specifications/dublin-core/dcmi-terms/2012-06-14/'),\n",
      " 'iao': rdflib.term.URIRef('http://purl.obolibrary.org/obo/iao/2020-06-10/iao.owl#'),\n",
      " 'ns': rdflib.term.URIRef('http://www.w3.org/2003/06/sw-vocab-status/ns#'),\n",
      " 'obda': rdflib.term.URIRef('https://w3id.org/obda/vocabulary#'),\n",
      " 'obo': rdflib.term.URIRef('http://purl.obolibrary.org/obo/'),\n",
      " 'owl': rdflib.term.URIRef('http://www.w3.org/2002/07/owl#'),\n",
      " 'rdf': rdflib.term.URIRef('http://www.w3.org/1999/02/22-rdf-syntax-ns#'),\n",
      " 'rdfs': rdflib.term.URIRef('http://www.w3.org/2000/01/rdf-schema#'),\n",
      " 'xml': rdflib.term.URIRef('http://www.w3.org/XML/1998/namespace'),\n",
      " 'xsd': rdflib.term.URIRef('http://www.w3.org/2001/XMLSchema#')}\n",
      "dict_keys(['xml', 'rdf', 'rdfs', 'xsd', '', 'dc', 'ns', 'bfo', 'iao', 'obo', 'owl', 'aeon', 'obda'])\n"
     ]
    }
   ],
   "source": [
    "from rdflib import Graph\n",
    "from rdflib.namespace import Namespace, NamespaceManager\n",
    "from pprint import pprint\n",
    "graph = Graph()\n",
    "graph.parse(source='../aeon/aeon.ttl', format='ttl')\n",
    "\n",
    "\n",
    "namespace_manager = NamespaceManager(graph)\n",
    "print(namespace_manager.__dict__)\n",
    "# graph.namespace_manager = namespace_manager\n",
    "print('\\n')\n",
    "all_ns = {n[0]:n[1] for n in graph.namespace_manager.namespaces()}\n",
    "pprint(all_ns)\n",
    "print(all_ns.keys())\n",
    "\n",
    "# printouts = graph.query(sparq_query, initNs={'rdf': RDF, 'rdfs': RDFS,'owl': OWL})\n",
    "\n",
    "# printout1 = list(printouts)[0]\n",
    "# for printout_ in printouts:\n",
    "#     print(printout_)"
   ]
  }
 ],
 "metadata": {
  "kernelspec": {
   "display_name": "Python 3",
   "language": "python",
   "name": "python3"
  },
  "language_info": {
   "codemirror_mode": {
    "name": "ipython",
    "version": 3
   },
   "file_extension": ".py",
   "mimetype": "text/x-python",
   "name": "python",
   "nbconvert_exporter": "python",
   "pygments_lexer": "ipython3",
   "version": "3.7.3"
  }
 },
 "nbformat": 4,
 "nbformat_minor": 4
}
