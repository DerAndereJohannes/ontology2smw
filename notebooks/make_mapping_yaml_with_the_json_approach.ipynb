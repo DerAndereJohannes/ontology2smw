{
 "cells": [
  {
   "cell_type": "code",
   "execution_count": 1,
   "metadata": {},
   "outputs": [],
   "source": [
    "import yaml\n",
    "import json\n",
    "import sys\n",
    "from pathlib import Path\n",
    "from typing import Dict\n",
    "import rdflib\n"
   ]
  },
  {
   "cell_type": "code",
   "execution_count": 2,
   "metadata": {},
   "outputs": [],
   "source": [
    "def dict2yaml(path: str, data: Dict):\n",
    "    with open(path, 'w') as yaml_f:\n",
    "        yaml.safe_dump(data=data, stream=yaml_f)"
   ]
  },
  {
   "cell_type": "code",
   "execution_count": null,
   "metadata": {},
   "outputs": [],
   "source": [
    "#example dict to use for copy and pasting\n",
    "{'wikidata': {'uri': 'https://www.wikidata.org/wiki/Property:P582',\n",
    "              'label': 'end_time'},\n",
    " 'openresearch': {'uri': 'https://www.openresearch.org/wiki/Property:Wikidataid', \n",
    "                   'label': 'Wikidataid'},\n",
    " 'gnd': {'uri': 'https://d-nb.info/standards/elementset/gnd#gndIdentifier', \n",
    "                   'label': 'GND-Identifier'}\n",
    "}"
   ]
  },
  {
   "cell_type": "markdown",
   "metadata": {},
   "source": [
    "With the below cell, we can create a valid JSON string by pasting the *uri* and *label* of the property we want to map to in a Python dict. It will then be made into the JSON string with the json.dumps() function and outputed in the output cell, from which it can be copied and pasted into Protégé."
   ]
  },
  {
   "cell_type": "code",
   "execution_count": 85,
   "metadata": {},
   "outputs": [
    {
     "data": {
      "text/plain": [
       "'{\"wikidata\": {\"uri\": null, \"label\": \"itemID\"}, \"openresearch\": {\"uri\": \"https://www.openresearch.org/wiki/Property:Wikidataid\", \"label\": \"Wikidataid\"}}'"
      ]
     },
     "execution_count": 85,
     "metadata": {},
     "output_type": "execute_result"
    }
   ],
   "source": [
    "# create mapping as python dict for each relevant property and print as JSON string to be pasted in Protégé as literal\n",
    "maps_to = {'wikidata': {'uri': None,\n",
    "                        'label': 'itemID'},\n",
    "           'openresearch': {'uri': 'https://www.openresearch.org/wiki/Property:Wikidataid', \n",
    "                   'label': 'Wikidataid'}\n",
    "          }\n",
    "maps_to_annotation = json.dumps(maps_to)\n",
    "maps_to_annotation"
   ]
  },
  {
   "cell_type": "code",
   "execution_count": 82,
   "metadata": {
    "scrolled": true
   },
   "outputs": [
    {
     "name": "stdout",
     "output_type": "stream",
     "text": [
      "the graph has 15 statements\n"
     ]
    }
   ],
   "source": [
    "# open a graph\n",
    "graph = rdflib.Graph()\n",
    "# load some data\n",
    "graph.parse('C:/Users/StroemertP/AEON/aeon/aeon.ttl', format=\"ttl\")  \n",
    "# query for mapping dictionary in aeon:mapsTo\n",
    "qres = graph.query(\n",
    "    \"\"\"\n",
    "    PREFIX aeon: <https://github.com/tibonto/aeon#>\n",
    "    PREFIX rdf: <http://www.w3.org/1999/02/22-rdf-syntax-ns#>\n",
    "    PREFIX rdfs: <http://www.w3.org/2000/01/rdf-schema#>\n",
    "    PREFIX owl: <http://www.w3.org/2002/07/owl#>\n",
    "    \n",
    "    SELECT DISTINCT ?aeon_property ?maps_to ?aeon_property_domain ?rdfs_label\n",
    "    \n",
    "    WHERE {\n",
    "            ?aeon_property aeon:AEON_0000026 ?maps_to.\n",
    "            {?aeon_property rdf:type owl:ObjectProperty.} UNION             \n",
    "            {?aeon_property rdf:type owl:DatatypeProperty.}\n",
    "            OPTIONAL {?aeon_property rdfs:domain ?aeon_property_domain.}\n",
    "            OPTIONAL {?aeon_property rdfs:label ?rdfs_label.}\n",
    "           }\n",
    "\n",
    "    \"\"\")\n",
    "\n",
    "print(\"the graph has %s statements\" % len(qres))\n",
    "\n",
    "\n",
    "mapping_dict = {}\n",
    "for printout in qres:\n",
    "    printout_dict = printout.asdict()\n",
    "    #print (printout_dict)\n",
    "    \n",
    "    # get the annotated aeon property\n",
    "    aeon_property = str(printout_dict.get('aeon_property'))\n",
    "    # cut off base URI\n",
    "    aeon_property = aeon_property.replace(\"https://github.com/tibonto/aeon#\",\"\")\n",
    "    \n",
    "    # get the mappings from annotation property maps_to\n",
    "    maps_to = json.loads(str(printout_dict.get('maps_to')))\n",
    "\n",
    "    # get domain from annotation property or literal\n",
    "    domain = str(printout_dict.get('aeon_property_domain'))\n",
    "\n",
    "    mapping_dict[aeon_property] = {'maps_to': maps_to}\n",
    "    mapping_dict[aeon_property]['domain'] = domain\n",
    "   \n",
    "    # code to parse all mapped plattforms here, this needs to be fleshed out!\n",
    "    dict2yaml('confident_mapping.yml',mapping_dict)\n"
   ]
  }
 ],
 "metadata": {
  "kernelspec": {
   "display_name": "Python 3",
   "language": "python",
   "name": "python3"
  },
  "language_info": {
   "codemirror_mode": {
    "name": "ipython",
    "version": 3
   },
   "file_extension": ".py",
   "mimetype": "text/x-python",
   "name": "python",
   "nbconvert_exporter": "python",
   "pygments_lexer": "ipython3",
   "version": "3.7.9"
  },
  "toc": {
   "base_numbering": 1,
   "nav_menu": {},
   "number_sections": true,
   "sideBar": true,
   "skip_h1_title": false,
   "title_cell": "Table of Contents",
   "title_sidebar": "Contents",
   "toc_cell": false,
   "toc_position": {},
   "toc_section_display": true,
   "toc_window_display": false
  }
 },
 "nbformat": 4,
 "nbformat_minor": 4
}
